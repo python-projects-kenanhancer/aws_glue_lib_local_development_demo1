{
 "cells": [
  {
   "cell_type": "markdown",
   "metadata": {},
   "source": [
    "Local Development prerequisites\n",
    "\n",
    "- Run `source ./setup_aws_glue_scripts/setup_aws_glue.sh` in GitBash\n",
    "\n",
    "AWS Glue Local Debugging:\n",
    "> Run `./glue_local_debug.sh` or follow the following steps.\n",
    "\n",
    "- From the Command Palette (`Ctrl+Shift+P`), select `Tasks: Run Task command`, then select `Convert Notebook to Script`\n",
    "- Run `pipenv shell` in terminal\n",
    "- Run `jupyter notebook --no-browser` in terminal\n",
    "- Copy Jupyter Server url from terminal\n",
    "- From the Command Palette (`Ctrl+Shift+P`), select `Notebook: Select Notebook Kernel`, then select `Select Another Kernel...`, then select `Existing Jupyter Server...`, then paste Jupyter Server url, then enter, then enter again.\n",
    "\n",
    "AWS Glue Interactive Session Debugging:\n",
    "- From the Command Palette (`Ctrl+Shift+P`), select `Tasks: Run Task command`, then select `Convert Notebook to Script`\n",
    "- Run `pipenv shell` in terminal\n",
    "- Run `jupyter notebook --no-browser` in terminal\n",
    "- Copy Jupyter Server url from terminal\n",
    "- From the Command Palette (`Ctrl+Shift+P`), select `Notebook: Select Notebook Kernel`, then select `Select Another Kernel...`, then select `Existing Jupyter Server...`, then paste Jupyter Server url, then enter, then enter again.\n",
    "- Uncomment the following cell, and run it."
   ]
  },
  {
   "cell_type": "markdown",
   "metadata": {},
   "source": [
    "# To configure AWS Glue Interactive Session, uncomment the following cell\n",
    "\n",
    "Change configuration in terms of your requirements."
   ]
  },
  {
   "cell_type": "code",
   "execution_count": null,
   "metadata": {},
   "outputs": [],
   "source": [
    "# %profile [your-profile-name]\n",
    "# %region eu-west-1\n",
    "# %iam_role [your-iam-role]\n",
    "# %worker_type G.1X\n",
    "# %number_of_workers 2\n",
    "# %additional_python_modules watchtower\n",
    "# %extra_py_files s3://artifacts-dev/33333/Layers/pip_common_packages_layer_glue.zip,s3://artifacts-dev/33333/Layers/combined_lambda_layer_glue.zip"
   ]
  },
  {
   "cell_type": "markdown",
   "metadata": {},
   "source": [
    "# To pass system arguments, uncomment the following cell\n",
    "\n",
    "Change arguments in terms of your requirements."
   ]
  },
  {
   "cell_type": "code",
   "execution_count": 1,
   "metadata": {},
   "outputs": [],
   "source": [
    "import sys\n",
    "from datetime import datetime\n",
    "\n",
    "\n",
    "stage = \"dev\"\n",
    "current_time = datetime.now()\n",
    "\n",
    "sys.argv = [\n",
    "    \"user_data_processing_glue_job.py\",  # sys.argv[0], script name\n",
    "    \"true\",\n",
    "    \"--is_local\",\n",
    "    \"true\",\n",
    "    \"--job-bookmark-option\",\n",
    "    \"job-bookmark-disable\",\n",
    "    \"--JOB_ID\",\n",
    "    \"j_a197e5a4ae431ff7631a35bdcddbb8b6bebf747667c548020bfbd40447569b25\",\n",
    "    \"true\",\n",
    "    \"--stage\",\n",
    "    \"dev\",\n",
    "    \"--JOB_RUN_ID\",\n",
    "    \"jr_6a23882f8589db824567693a787ec1014a66dcc868186c2cb8ae26a502f47040\",\n",
    "    \"--JOB_NAME\",\n",
    "    \"TEST_JOB\",\n",
    "    \"--execution_arn\",\n",
    "    f\"arn:aws:states:eu-west-1:625904187796:execution:TEST_JOB:try-{current_time.strftime('%Y%m%d%H%M%S%f')}\",\n",
    "    \"--job\",\n",
    "    \"job_name\",\n",
    "    \"--debugging\",\n",
    "    \"True\",\n",
    "    \"--stage\",\n",
    "    stage,\n",
    "    \"--log_group_name\",\n",
    "    f\"/aws-glue/jobs/user_data_processing_glue_job_{stage}\",\n",
    "    \"--total_records\",\n",
    "    \"1000\",\n",
    "    \"--s3_file_path\",\n",
    "    \"test\",\n",
    "]"
   ]
  },
  {
   "cell_type": "markdown",
   "metadata": {},
   "source": [
    "# Initialize AWS Glue Context"
   ]
  },
  {
   "cell_type": "code",
   "execution_count": 2,
   "metadata": {},
   "outputs": [
    {
     "name": "stderr",
     "output_type": "stream",
     "text": [
      "Jun 03, 2024 10:26:12 AM org.apache.spark.launcher.Log4jHotPatchOption staticJavaAgentOption\n",
      "WARNING: spark.log4jHotPatch.enabled is set to true, but /usr/share/log4j-cve-2021-44228-hotpatch/jdk17/Log4jHotPatchFat.jar does not exist at the configured location\n",
      "\n",
      "log4j:WARN No appenders could be found for logger (org.apache.spark.util.Utils).\n",
      "log4j:WARN Please initialize the log4j system properly.\n",
      "log4j:WARN See http://logging.apache.org/log4j/1.2/faq.html#noconfig for more info.\n",
      "/Users/kenanhancer/spark-3.3.0-amzn-1-bin-3.3.3-amzn-0/python/pyspark/sql/context.py:112: FutureWarning: Deprecated in 3.0.0. Use SparkSession.builder.getOrCreate() instead.\n",
      "  warnings.warn(\n"
     ]
    },
    {
     "name": "stdout",
     "output_type": "stream",
     "text": [
      "Exception while setting endpoint config: java.lang.NullPointerException\n",
      "sys.argv to dictionary\n",
      "**********************\n",
      "[\n",
      "    \"user_data_processing_glue_job.py\",\n",
      "    \"true\",\n",
      "    \"--is_local\",\n",
      "    \"true\",\n",
      "    \"--job-bookmark-option\",\n",
      "    \"job-bookmark-disable\",\n",
      "    \"--JOB_ID\",\n",
      "    \"j_a197e5a4ae431ff7631a35bdcddbb8b6bebf747667c548020bfbd40447569b25\",\n",
      "    \"true\",\n",
      "    \"--stage\",\n",
      "    \"dev\",\n",
      "    \"--JOB_RUN_ID\",\n",
      "    \"jr_6a23882f8589db824567693a787ec1014a66dcc868186c2cb8ae26a502f47040\",\n",
      "    \"--JOB_NAME\",\n",
      "    \"TEST_JOB\",\n",
      "    \"--execution_arn\",\n",
      "    \"arn:aws:states:eu-west-1:625904187796:execution:TEST_JOB:try-20240603102610092683\",\n",
      "    \"--job\",\n",
      "    \"job_name\",\n",
      "    \"--debugging\",\n",
      "    \"True\",\n",
      "    \"--stage\",\n",
      "    \"dev\",\n",
      "    \"--log_group_name\",\n",
      "    \"/aws-glue/jobs/user_data_processing_glue_job_dev\",\n",
      "    \"--total_records\",\n",
      "    \"1000\",\n",
      "    \"--s3_file_path\",\n",
      "    \"test\"\n",
      "]\n",
      "args to dictionary\n",
      "**********************\n",
      "{\n",
      "    \"is_local\": true,\n",
      "    \"job_bookmark_option\": \"job-bookmark-disable\",\n",
      "    \"JOB_ID\": \"j_a197e5a4ae431ff7631a35bdcddbb8b6bebf747667c548020bfbd40447569b25\",\n",
      "    \"stage\": \"dev\",\n",
      "    \"JOB_RUN_ID\": \"jr_6a23882f8589db824567693a787ec1014a66dcc868186c2cb8ae26a502f47040\",\n",
      "    \"JOB_NAME\": \"TEST_JOB\",\n",
      "    \"execution_arn\": \"arn:aws:states:eu-west-1:625904187796:execution:TEST_JOB:try-20240603102610092683\",\n",
      "    \"job\": \"job_name\",\n",
      "    \"debugging\": true,\n",
      "    \"log_group_name\": \"/aws-glue/jobs/user_data_processing_glue_job_dev\",\n",
      "    \"total_records\": \"1000\",\n",
      "    \"s3_file_path\": \"test\"\n",
      "}\n"
     ]
    }
   ],
   "source": [
    "import sys\n",
    "import json\n",
    "import logging\n",
    "\n",
    "from glue_utils import argv_to_dict, log_operation\n",
    "from log_utils import LogUtils\n",
    "\n",
    "from awsglue.transforms import *\n",
    "from awsglue.utils import getResolvedOptions\n",
    "from pyspark.context import SparkContext\n",
    "from awsglue.context import GlueContext\n",
    "from awsglue.job import Job\n",
    "\n",
    "\n",
    "# Get parameters passed to the script\n",
    "args = getResolvedOptions(\n",
    "    sys.argv,\n",
    "    [\n",
    "        \"JOB_NAME\",\n",
    "        \"job\",\n",
    "        \"execution_arn\",\n",
    "        \"debugging\",\n",
    "        \"log_group_name\",\n",
    "        \"total_records\",\n",
    "        \"stage\",\n",
    "    ],\n",
    ")\n",
    "\n",
    "log_utils = LogUtils(\n",
    "    log_group_name=args[\"log_group_name\"],\n",
    "    log_stream_name=args[\"JOB_RUN_ID\"],\n",
    "    job_name=args[\"job\"],\n",
    "    execution_arn=args[\"execution_arn\"],\n",
    ")\n",
    "\n",
    "log_utils.configure_logging()\n",
    "\n",
    "logger = logging.getLogger()\n",
    "\n",
    "# Initialize Glue context\n",
    "sparkContext = SparkContext.getOrCreate()\n",
    "glueContext = GlueContext(sparkContext=sparkContext)\n",
    "spark = glueContext.spark_session\n",
    "# logger = glueContext.get_logger()\n",
    "job = Job(glueContext)\n",
    "job.init(args[\"JOB_NAME\"], args)\n",
    "\n",
    "\n",
    "print(\"sys.argv to dictionary\")\n",
    "print(\"**********************\")\n",
    "print(json.dumps(obj=sys.argv, indent=4))\n",
    "\n",
    "args = argv_to_dict(argv=sys.argv)\n",
    "\n",
    "args_json = json.dumps(args, indent=4)\n",
    "\n",
    "print(\"args to dictionary\")\n",
    "print(\"**********************\")\n",
    "print(args_json)"
   ]
  },
  {
   "cell_type": "markdown",
   "metadata": {},
   "source": [
    "# To Configure AWS Cloudwatch Logging"
   ]
  },
  {
   "cell_type": "code",
   "execution_count": null,
   "metadata": {},
   "outputs": [],
   "source": [
    "log_utils.create_cloud_watch_log_group()"
   ]
  },
  {
   "cell_type": "markdown",
   "metadata": {},
   "source": [
    "# Business Logic"
   ]
  },
  {
   "cell_type": "code",
   "execution_count": 3,
   "metadata": {},
   "outputs": [
    {
     "name": "stderr",
     "output_type": "stream",
     "text": [
      "INFO:root:Starting operation: Reading User Data CSV\n",
      "INFO:root:CSV file successfully read from path: ./glue_job/user_data.csv        \n",
      "INFO:root:Completed operation: Reading User Data CSV in 7.96 seconds\n"
     ]
    },
    {
     "name": "stdout",
     "output_type": "stream",
     "text": [
      "+-------+---+-------------+\n",
      "|   name|age|         city|\n",
      "+-------+---+-------------+\n",
      "|  Alice| 30|     New York|\n",
      "|    Bob| 25|  Los Angeles|\n",
      "|Charlie| 35|      Chicago|\n",
      "|  Diana| 28|San Francisco|\n",
      "|    Eve| 32|       Boston|\n",
      "|  Frank| 27|      Seattle|\n",
      "|  Grace| 29|       Austin|\n",
      "|   Hank| 31|       Denver|\n",
      "|  Irene| 33|      Phoenix|\n",
      "|   Jack| 26|    San Diego|\n",
      "|  Karen| 34|       Dallas|\n",
      "|    Leo| 28|     San Jose|\n",
      "|   Mona| 30| Indianapolis|\n",
      "|   Nate| 25|     Columbus|\n",
      "| Olivia| 33|    Charlotte|\n",
      "|   Paul| 29|     Portland|\n",
      "| Quincy| 35|    Las Vegas|\n",
      "| Rachel| 28|Oklahoma City|\n",
      "|  Steve| 32|   Louisville|\n",
      "|   Tina| 27|    Baltimore|\n",
      "+-------+---+-------------+\n",
      "only showing top 20 rows\n",
      "\n"
     ]
    }
   ],
   "source": [
    "def read_user_data_csv():\n",
    "    global user_data_df\n",
    "    csv_file_path = \"./glue_job/user_data.csv\"\n",
    "    user_data_df = spark.read.csv(csv_file_path, header=True, inferSchema=True)\n",
    "    logger.info(f\"CSV file successfully read from path: {csv_file_path}\")\n",
    "    user_data_df.show()\n",
    "\n",
    "\n",
    "log_operation(\"Reading User Data CSV\", read_user_data_csv)"
   ]
  },
  {
   "cell_type": "code",
   "execution_count": 4,
   "metadata": {},
   "outputs": [
    {
     "name": "stderr",
     "output_type": "stream",
     "text": [
      "INFO:root:Starting operation: Filtering Users Older Than 30\n",
      "INFO:root:Users older than 30 have been selected.\n",
      "INFO:root:Completed operation: Filtering Users Older Than 30 in 0.51 seconds\n"
     ]
    },
    {
     "name": "stdout",
     "output_type": "stream",
     "text": [
      "+-------+---+-----------+\n",
      "|   name|age|       city|\n",
      "+-------+---+-----------+\n",
      "|Charlie| 35|    Chicago|\n",
      "|    Eve| 32|     Boston|\n",
      "|   Hank| 31|     Denver|\n",
      "|  Irene| 33|    Phoenix|\n",
      "|  Karen| 34|     Dallas|\n",
      "| Olivia| 33|  Charlotte|\n",
      "| Quincy| 35|  Las Vegas|\n",
      "|  Steve| 32| Louisville|\n",
      "| Victor| 31|Albuquerque|\n",
      "|  Wendy| 33|Kansas City|\n",
      "| Yvonne| 34|    Atlanta|\n",
      "|  Cindy| 35|      Miami|\n",
      "|   Ella| 32|  Cleveland|\n",
      "|  Harry| 31|Minneapolis|\n",
      "|    Ivy| 33|      Tulsa|\n",
      "|  Kelly| 34|New Orleans|\n",
      "|  Oscar| 35|    Anaheim|\n",
      "|Quentin| 32| Pittsburgh|\n",
      "+-------+---+-----------+\n",
      "\n"
     ]
    }
   ],
   "source": [
    "def filter_users_older_than_30():\n",
    "    global filtered_user_data_df\n",
    "    filtered_user_data_df = user_data_df.filter(user_data_df[\"age\"] > 30)\n",
    "    logger.info(\"Users older than 30 have been selected.\")\n",
    "    filtered_user_data_df.show()\n",
    "\n",
    "\n",
    "log_operation(\"Filtering Users Older Than 30\", filter_users_older_than_30)"
   ]
  },
  {
   "cell_type": "code",
   "execution_count": 5,
   "metadata": {},
   "outputs": [
    {
     "name": "stderr",
     "output_type": "stream",
     "text": [
      "INFO:root:Starting operation: Selecting Name and City Columns\n",
      "INFO:root:'name' and 'city' columns have been selected.\n",
      "INFO:root:Completed operation: Selecting Name and City Columns in 0.33 seconds\n"
     ]
    },
    {
     "name": "stdout",
     "output_type": "stream",
     "text": [
      "+-------+-----------+\n",
      "|   name|       city|\n",
      "+-------+-----------+\n",
      "|Charlie|    Chicago|\n",
      "|    Eve|     Boston|\n",
      "|   Hank|     Denver|\n",
      "|  Irene|    Phoenix|\n",
      "|  Karen|     Dallas|\n",
      "| Olivia|  Charlotte|\n",
      "| Quincy|  Las Vegas|\n",
      "|  Steve| Louisville|\n",
      "| Victor|Albuquerque|\n",
      "|  Wendy|Kansas City|\n",
      "| Yvonne|    Atlanta|\n",
      "|  Cindy|      Miami|\n",
      "|   Ella|  Cleveland|\n",
      "|  Harry|Minneapolis|\n",
      "|    Ivy|      Tulsa|\n",
      "|  Kelly|New Orleans|\n",
      "|  Oscar|    Anaheim|\n",
      "|Quentin| Pittsburgh|\n",
      "+-------+-----------+\n",
      "\n"
     ]
    }
   ],
   "source": [
    "def select_name_and_city_columns():\n",
    "    global selected_user_data_df\n",
    "    selected_user_data_df = filtered_user_data_df.select(\"name\", \"city\")\n",
    "    logger.info(\"'name' and 'city' columns have been selected.\")\n",
    "    selected_user_data_df.show()\n",
    "\n",
    "\n",
    "log_operation(\"Selecting Name and City Columns\", select_name_and_city_columns)"
   ]
  },
  {
   "cell_type": "code",
   "execution_count": 6,
   "metadata": {},
   "outputs": [],
   "source": [
    "# Stop the SparkSession\n",
    "job.commit()\n",
    "spark.stop()"
   ]
  }
 ],
 "metadata": {
  "kernelspec": {
   "display_name": "AWS Glue Jupyter Local",
   "language": "python",
   "name": "aws_glue_jupyter_local"
  },
  "language_info": {
   "codemirror_mode": {
    "name": "ipython",
    "version": 3
   },
   "file_extension": ".py",
   "mimetype": "text/x-python",
   "name": "python",
   "nbconvert_exporter": "python",
   "pygments_lexer": "ipython3",
   "version": "3.10.11"
  }
 },
 "nbformat": 4,
 "nbformat_minor": 4
}
